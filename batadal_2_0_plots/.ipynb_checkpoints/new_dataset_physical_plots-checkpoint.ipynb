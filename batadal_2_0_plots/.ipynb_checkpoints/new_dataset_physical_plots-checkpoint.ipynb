{
 "cells": [
  {
   "cell_type": "code",
   "execution_count": 1,
   "id": "1ac043e2",
   "metadata": {},
   "outputs": [],
   "source": [
    "#import cip # library that has the packet structure of minicps network data\n",
    "#from scapy.all import *\n",
    "from nwk_feature_engineering import NwkFeaturer\n",
    "from sklearn.preprocessing import OneHotEncoder\n",
    "import matplotlib.pyplot as plt\n",
    "#import wntr\n",
    "#import wntr.network.controls as controls\n",
    "import csv\n",
    "import time\n",
    "import pandas as pd\n",
    "import numpy as np\n",
    "from datetime import datetime\n",
    "import glob\n",
    "import numpy as np\n",
    "\n",
    "import seaborn as sns\n",
    "# import tikzplotlib\n",
    "\n",
    "from scipy.spatial.distance import euclidean\n",
    "# from fastdtw import fastdtw\n",
    "import scipy.stats as stats\n",
    "\n",
    "from matplotlib.colors import ListedColormap\n",
    "from matplotlib.patches import Rectangle"
   ]
  },
  {
   "cell_type": "code",
   "execution_count": 2,
   "id": "a89f5c4d",
   "metadata": {},
   "outputs": [],
   "source": [
    "def plot_attacks_with_nwk(series, variable_names, legends, titles, pandas_list, a_label, figure_title, subplots_titles,\n",
    "                          sub_filename='do_subplot', y_label='water level in tank (m)', \n",
    "                          xlim=[0,2880], ylim=None, markers=None, leg_poc='lower left', sub_sample=2):\n",
    "\n",
    "    ticks = np.arange(xlim[0], xlim[1], step=288)\n",
    "    ticks_labels = ['Mon', 'Tue', 'Wed', 'Thu', 'Fri', 'Sat','Sun', 'Mon', 'Tue', 'Wed' ]\n",
    "       \n",
    "    font = {'weight' : 'normal',\n",
    "            'size'   : 18}\n",
    "    plt.rc('font', **font)        \n",
    "    sns.set_palette(sns.color_palette(\"colorblind\"))\n",
    "        \n",
    "    # Builds subplot grid\n",
    "    fig = plt.figure(figsize = (27,20), dpi=80, constrained_layout=True)\n",
    "    subfigs = fig.subfigures(2, 1,  hspace=0.03, wspace=0.01)\n",
    " \n",
    "    subplot_n_columns = 1\n",
    "    subplot_n_rows = len(variable_names)\n",
    "\n",
    "    axes = subfigs[0].subplots(subplot_n_rows,subplot_n_columns, squeeze=False, sharex=False)\n",
    "  \n",
    "    subplot_row = 0\n",
    "    subplot_column = 0    \n",
    "    i = 0    \n",
    "    sub_sample = 2\n",
    "    for variable in variable_names:\n",
    "        j = 0\n",
    "        for serie in series:\n",
    "            if j == 0:\n",
    "                axes[subplot_row][subplot_column].plot(serie[variable], label=legends[j], linewidth=2.0)\n",
    "            else:\n",
    "                axes[subplot_row][subplot_column].plot(serie[variable], label=legends[j], marker=markers[j-1], linestyle='None', markevery=sub_sample, markersize=6)\n",
    "            j = j + 1             \n",
    "        if i== subplot_n_rows-1:\n",
    "            axes[subplot_row][subplot_column].legend(loc=leg_poc)\n",
    "            \n",
    "        axes[subplot_row][subplot_column].grid(True)\n",
    "        axes[subplot_row][subplot_column].set_title(titles[i])\n",
    "        axes[subplot_row][subplot_column].set_ylabel(y_label) \n",
    "        \n",
    "        axes[subplot_row][subplot_column].set_xticks(ticks)\n",
    "        axes[subplot_row][subplot_column].set_xticklabels(ticks_labels)\n",
    "    \n",
    "        if xlim:\n",
    "            axes[subplot_row][subplot_column].set_xlim(left=xlim[0], right=xlim[1])                            \n",
    "        if ylim:\n",
    "            axes[subplot_row][subplot_column].set_ylim(bottom=ylim[0], top=ylim[1])                            \n",
    "            \n",
    "        attack_begin_line = 1812\n",
    "        attack_end_line = 1440\n",
    "        axes[subplot_row][subplot_column].axvspan(attack_begin_line, attack_end_line, facecolor='gray', alpha=.2)\n",
    "            \n",
    "        subplot_column = subplot_column + 1\n",
    "        if subplot_column >= subplot_n_columns:\n",
    "            subplot_column = 0\n",
    "            subplot_row = subplot_row + 1\n",
    "        i = i +1\n",
    "    \n",
    "    \n",
    "    axs_nwk = subfigs[1].subplots(1,len(pandas_list), sharex=True)\n",
    "    \n",
    "    subplot_index = 0\n",
    "    if len(pandas_list) > 1:\n",
    "        for dataframe in pandas_list:\n",
    "            this_panda = pandas_list[subplot_index]\n",
    "            this_panda = this_panda[this_panda.Command != 'GET T1']\n",
    "            this_panda = this_panda[this_panda.Command != 'GET T2']\n",
    "            this_panda = this_panda[this_panda.Command != 'GET T3']\n",
    "            this_panda = this_panda[this_panda.Command != 'GET T4']\n",
    "            this_panda = this_panda[this_panda.Command != 'GET PU1']\n",
    "            this_panda = this_panda[this_panda.Command != 'GET PU2']\n",
    "            this_panda = this_panda[this_panda.Command != 'GET PU3']\n",
    "            this_panda = this_panda[this_panda.Command != 'GET PU4']\n",
    "            this_panda = this_panda[this_panda.Command != 'GET PU7F']\n",
    "            this_panda = this_panda[this_panda.Command != 'GET PU3F']\n",
    "            this_panda = this_panda[this_panda.Command != 'GET PU4F']\n",
    "            this_panda = this_panda[this_panda.Command != 'GET PU7']\n",
    "            this_panda = this_panda[this_panda.Command != 'GET PU6']\n",
    "            this_panda = this_panda[this_panda.Command != 'GET PU5']\n",
    "            this_panda = this_panda[this_panda.Command != 'GET PU1F']\n",
    "            this_panda = this_panda[this_panda.Command != 'GET PU2F']\n",
    "            this_panda = this_panda[this_panda.Command != 'GET PU5F']\n",
    "            this_panda = this_panda[this_panda.Command != 'GET PU6F']\n",
    "            this_panda = this_panda[this_panda.Command != 'GET J256']\n",
    "            this_panda = this_panda[this_panda.Command != 'GET J14']\n",
    "            this_panda = this_panda[this_panda.Command != 'GET J415']\n",
    "            this_panda = this_panda[this_panda.Command != 'GET J289']\n",
    "            this_panda = this_panda[this_panda.Command != 'GET J269']\n",
    "            this_panda = this_panda[this_panda.Command != 'GET J280']\n",
    "            this_panda = this_panda[this_panda.Command != 'GET J300']\n",
    "            this_panda = this_panda[this_panda.Command != 'GET J422']\n",
    "            this_panda = this_panda[this_panda.Command != 'GET V2']\n",
    "            this_panda = this_panda[this_panda.Command != 'GET V2F']\n",
    "            this_panda = this_panda[this_panda.Command != 'ARP Req']\n",
    "            this_panda = this_panda[this_panda.Command != 'ARP Res']\n",
    "            this_panda = this_panda[this_panda.Command != 'A']\n",
    "            this_panda = this_panda[this_panda.Command != 'FA']\n",
    "            sns.histplot(this_panda[a_label], label=a_label, ax=axs_nwk[subplot_index],stat='percent')\n",
    "            axs_nwk[subplot_index].grid(True)\n",
    "\n",
    "            axs_nwk[subplot_index].set_title(subplots_titles[subplot_index])\n",
    "            subfigs[1].suptitle(figure_title)\n",
    "\n",
    "            subplot_index = subplot_index + 1\n",
    "    elif len(pandas_list) == 0:\n",
    "            this_panda = pandas_list[subplot_index]\n",
    "            this_panda = this_panda[this_panda.Command != 'GET T1']\n",
    "            this_panda = this_panda[this_panda.Command != 'GET T2']\n",
    "            this_panda = this_panda[this_panda.Command != 'GET T3']\n",
    "            this_panda = this_panda[this_panda.Command != 'GET T4']\n",
    "            this_panda = this_panda[this_panda.Command != 'GET PU1']\n",
    "            this_panda = this_panda[this_panda.Command != 'GET PU2']\n",
    "            this_panda = this_panda[this_panda.Command != 'GET PU3']\n",
    "            this_panda = this_panda[this_panda.Command != 'GET PU4']\n",
    "            this_panda = this_panda[this_panda.Command != 'GET PU7F']\n",
    "            this_panda = this_panda[this_panda.Command != 'GET PU3F']\n",
    "            this_panda = this_panda[this_panda.Command != 'GET PU4F']\n",
    "            this_panda = this_panda[this_panda.Command != 'GET PU7']\n",
    "            this_panda = this_panda[this_panda.Command != 'GET PU6']\n",
    "            this_panda = this_panda[this_panda.Command != 'GET PU5']\n",
    "            this_panda = this_panda[this_panda.Command != 'GET PU1F']\n",
    "            this_panda = this_panda[this_panda.Command != 'GET PU2F']\n",
    "            this_panda = this_panda[this_panda.Command != 'GET PU5F']\n",
    "            this_panda = this_panda[this_panda.Command != 'GET PU6F']\n",
    "            this_panda = this_panda[this_panda.Command != 'GET J256']\n",
    "            this_panda = this_panda[this_panda.Command != 'GET J280']\n",
    "            this_panda = this_panda[this_panda.Command != 'GET J14']\n",
    "            this_panda = this_panda[this_panda.Command != 'GET J415']\n",
    "            this_panda = this_panda[this_panda.Command != 'GET J289']\n",
    "            this_panda = this_panda[this_panda.Command != 'GET J269']\n",
    "            this_panda = this_panda[this_panda.Command != 'GET J300']\n",
    "            this_panda = this_panda[this_panda.Command != 'GET J422']\n",
    "            this_panda = this_panda[this_panda.Command != 'GET V2']\n",
    "            this_panda = this_panda[this_panda.Command != 'GET V2F']\n",
    "            this_panda = this_panda[this_panda.Command != 'ARP Req']\n",
    "            this_panda = this_panda[this_panda.Command != 'ARP Res']\n",
    "            this_panda = this_panda[this_panda.Command != 'A']\n",
    "            this_panda = this_panda[this_panda.Command != 'FA']\n",
    "            sns.histplot(this_panda[a_label], label=a_label, ax=axs_nwk, stat='percent')\n",
    "            axs_nwk.grid(True)\n",
    "\n",
    "            axs_nwk.set_title(subplots_titles[subplot_index])\n",
    "            subfigs[1].suptitle(figure_title)\n",
    "\n",
    "            subplot_index = subplot_index + 1\n",
    "            \n",
    "    \n",
    "    plt.savefig(sub_filename+'.png', orientation='landscape', bbox_inches='tight')\n",
    "    plt.savefig(sub_filename+'.pdf', orientation='landscape', bbox_inches='tight')  "
   ]
  },
  {
   "cell_type": "code",
   "execution_count": 4,
   "id": "66564f1f",
   "metadata": {},
   "outputs": [],
   "source": [
    "def plot_with_envelope(series, variable_names, legends, titles, envelope_min, envelope_max, sub_filename='do_subplot', y_label='water level in tank (m)', \n",
    "                 xlim=[0,2880], ylim=None, markers=None, sub_sample=2):\n",
    "    \n",
    "    subplot_n_columns = 1\n",
    "    subplot_n_rows = len(variable_names)\n",
    "    \n",
    "    ticks = np.arange(xlim[0], xlim[1], step=288)    \n",
    "    time = np.arange(xlim[0], xlim[1])    \n",
    "    ticks_labels = ['Mon', 'Tue', 'Wed', 'Thu', 'Fri', 'Sat','Sun', 'Mon', 'Tue', 'Wed' ]\n",
    "       \n",
    "    font = {'weight' : 'normal',\n",
    "            'size'   : 18}\n",
    "    plt.rc('font', **font)        \n",
    "    sns.set_palette(sns.color_palette(\"colorblind\"))\n",
    "        \n",
    "    # Builds subplot grid\n",
    "    f, axes = plt.subplots(subplot_n_rows,subplot_n_columns, figsize = (27,20), \n",
    "                           squeeze=False, dpi=80, sharex=False)\n",
    "        \n",
    "    subplot_row = 0\n",
    "    subplot_column = 0    \n",
    "    i = 0    \n",
    "    sub_sample = 2\n",
    "    for variable in variable_names:\n",
    "        j = 0\n",
    "        for serie in series:\n",
    "            if j == 0:\n",
    "                axes[subplot_row][subplot_column].plot(serie[variable], label=legends[j], linewidth=2.0)\n",
    "            else:\n",
    "                axes[subplot_row][subplot_column].plot(serie[variable], label=legends[j], marker=markers[j-1], linestyle='None', markevery=sub_sample, markersize=6)\n",
    "            j = j + 1             \n",
    "        if i== subplot_n_rows-1:\n",
    "            axes[subplot_row][subplot_column].legend(loc='lower right')\n",
    "            \n",
    "        axes[subplot_row][subplot_column].grid(True)\n",
    "        axes[subplot_row][subplot_column].set_title(titles[i])\n",
    "        axes[subplot_row][subplot_column].set_ylabel(y_label)  \n",
    "        axes[subplot_row][subplot_column].set_xticks(ticks)\n",
    "        axes[subplot_row][subplot_column].set_xticklabels(ticks_labels)\n",
    "        axes[subplot_row][subplot_column].fill_between(time, envelope_min[i][xlim[0]:xlim[1]], envelope_max[i][xlim[0]:xlim[1]],\n",
    "                                                       alpha=0.2, color='gray')\n",
    "        \n",
    "        if xlim:\n",
    "            axes[subplot_row][subplot_column].set_xlim(left=xlim[0], right=xlim[1])                            \n",
    "   \n",
    "        subplot_column = subplot_column + 1\n",
    "        if subplot_column >= subplot_n_columns:\n",
    "            subplot_column = 0\n",
    "            subplot_row = subplot_row + 1\n",
    "  \n",
    "        i = i +1\n",
    "            \n",
    "    plt.savefig(sub_filename+'.png', orientation='landscape', bbox_inches='tight')\n",
    "    plt.savefig(sub_filename+'.pdf', orientation='landscape', bbox_inches='tight')      \n",
    "        \n",
    "\n",
    "def plot_attacks(series, variable_names, legends, titles, sub_filename='do_subplot', y_label='water level in tank (m)', \n",
    "                 xlim=[0,2880], ylim=None, markers=None, leg_poc='lower left',sub_sample=2, \n",
    "                 attack_begin_line=1812, attack_end_line=1440, dim1=27, dim2=20):\n",
    "    \n",
    "    subplot_n_columns = 1\n",
    "    subplot_n_rows = len(variable_names)\n",
    "    \n",
    "    use_labels = False\n",
    "    \n",
    "    if xlim[-1] == 2880:\n",
    "        use_labels = True\n",
    "    \n",
    "    if use_labels:\n",
    "        ticks = np.arange(xlim[0], xlim[1], step=288)    \n",
    "        ticks_labels = ['Mon', 'Tue', 'Wed', 'Thu', 'Fri', 'Sat','Sun', 'Mon', 'Tue', 'Wed' ]\n",
    "       \n",
    "    font = {'weight' : 'normal',\n",
    "            'size'   : 18}\n",
    "    plt.rc('font', **font)        \n",
    "    sns.set_palette(sns.color_palette(\"colorblind\"))\n",
    "        \n",
    "    # Builds subplot grid\n",
    "    \n",
    "    if len(variable_names)<=1:    \n",
    "        f, axes = plt.subplots(subplot_n_rows,subplot_n_columns, figsize = (16,10), \n",
    "                               squeeze=False, dpi=80, sharex=True)\n",
    "    else:    \n",
    "        f, axes = plt.subplots(subplot_n_rows,subplot_n_columns, figsize = (dim1,dim2), \n",
    "                               squeeze=False, dpi=80, sharex=True)\n",
    "    \n",
    "        \n",
    "    subplot_row = 0\n",
    "    subplot_column = 0    \n",
    "    i = 0    \n",
    "    sub_sample = 2\n",
    "    for variable in variable_names:\n",
    "        j = 0\n",
    "        for serie in series:\n",
    "            if j == 0:\n",
    "                axes[subplot_row][subplot_column].plot(serie[variable], label=legends[j], linewidth=2.0)\n",
    "            else:\n",
    "                axes[subplot_row][subplot_column].plot(serie[variable], label=legends[j], marker=markers[j-1], linestyle='None', markevery=sub_sample, markersize=6)\n",
    "            j = j + 1             \n",
    "        if i== subplot_n_rows-1:\n",
    "            axes[subplot_row][subplot_column].legend(bbox_to_anchor=(0.5, -0.50), loc='center', ncol=2)\n",
    "\n",
    "        \n",
    "            \n",
    "        axes[subplot_row][subplot_column].grid(True)\n",
    "        axes[subplot_row][subplot_column].set_title(titles[i])\n",
    "        axes[subplot_row][subplot_column].set_ylabel(y_label[i])  \n",
    "        \n",
    "        \n",
    "    \n",
    "        if xlim:\n",
    "            axes[subplot_row][subplot_column].set_xlim(left=xlim[0], right=xlim[1])                            \n",
    "        if ylim:\n",
    "            axes[subplot_row][subplot_column].set_ylim(bottom=ylim[0], top=ylim[1])                            \n",
    "            \n",
    "\n",
    "        try:\n",
    "            axes[subplot_row][subplot_column].axvspan(attack_begin_line, attack_end_line, facecolor='gray', alpha=.2)\n",
    "        except:\n",
    "            axes[subplot_row][subplot_column].axvspan(attack_begin_line[0], attack_end_line[0], facecolor='gray', alpha=.4)\n",
    "            axes[subplot_row][subplot_column].axvspan(attack_begin_line[1], attack_end_line[1], facecolor='red', alpha=.2)\n",
    "        subplot_column = subplot_column + 1\n",
    "        if subplot_column >= subplot_n_columns:\n",
    "            subplot_column = 0\n",
    "            subplot_row = subplot_row + 1\n",
    "\n",
    "  \n",
    "        i = i +1\n",
    "\n",
    "    print(plt.xticks() ) # Get the current locations and labels.\n",
    "\n",
    "    labels = np.round(np.array([ 0,  288, 576, 864, 1152, 1440, 1728, 2016, 2304, 2592,2880])*[5]/1440,2)\n",
    "        \n",
    "    plt.xticks([ 0,  288, 576, 864, 1152, 1440, 1728, 2016, 2304, 2592,2880], labels)\n",
    "    plt.xlabel('Time [days]') \n",
    "            \n",
    "    plt.savefig(sub_filename+'.pdf', orientation='landscape', bbox_inches='tight')  "
   ]
  },
  {
   "cell_type": "code",
   "execution_count": 5,
   "id": "9a82dd95",
   "metadata": {},
   "outputs": [],
   "source": [
    "def extract_packets_by_period(phy, nwk, adjust_timezone, interval=[0, 2880]): \n",
    "    low_limit  =  (datetime.strptime(phy.iloc[interval[0]]['timestamp'], \"%Y-%m-%d %H:%M:%S.%f\")-datetime(1970, 1, 1)).total_seconds()\n",
    "    high_limit =  (datetime.strptime(phy.iloc[interval[1]]['timestamp'], \"%Y-%m-%d %H:%M:%S.%f\")-datetime(1970, 1, 1)).total_seconds()\n",
    "    \n",
    "    if adjust_timezone:\n",
    "        nwk['Timestamp'] = nwk['Timestamp'] + 28800  \n",
    "    exp = (nwk['Timestamp'] >= low_limit) & (nwk['Timestamp'] <= high_limit)\n",
    "    return nwk.loc[exp,:]\n",
    "\n",
    "def number_packets_by_period(phy, nwk, period, command=None, interval=[0, 2880]):    \n",
    "    low_limit  =  (datetime.strptime(phy.iloc[interval[0]]['timestamp'], \"%Y-%m-%d %H:%M:%S.%f\")-datetime(1970, 1, 1)).total_seconds()\n",
    "    high_limit =  (datetime.strptime(phy.iloc[interval[1]]['timestamp'], \"%Y-%m-%d %H:%M:%S.%f\")-datetime(1970, 1, 1)).total_seconds()\n",
    "    \n",
    "    # phy timestamps is in string-datetime format \n",
    "    time_as_epochs = pd.to_datetime(phy['timestamp']).astype('int64')//1e9\n",
    "    time_as_epochs = time_as_epochs.iloc[interval[0]:interval[1]+1]\n",
    "    \n",
    "    # now hour times is in epoch\n",
    "    hour_times = time_as_epochs.iloc[::period]\n",
    "    period_packets = []\n",
    "    \n",
    "    if command=='RST':\n",
    "        exp = (nwk['Command'] == 'R')\n",
    "        nwk = nwk[exp]\n",
    "        \n",
    "    elif command=='ARP':\n",
    "        exp = (nwk['Protocol'] == 'ARP')\n",
    "        nwk = nwk[exp]     \n",
    "            \n",
    "    elif command=='SA':\n",
    "        exp = (nwk['Command'] == 'SA')\n",
    "        nwk = nwk[exp]     \n",
    "        \n",
    "    \n",
    "    if nwk.empty:\n",
    "        for i in range(1,len(hour_times)):       \n",
    "            period_packets.append(0)            \n",
    "    else:         \n",
    "        for i in range(1,len(hour_times)):\n",
    "            this_hour = len(nwk[(nwk['Timestamp'] >= hour_times.iloc[i-1]) & (nwk['Timestamp'] <= hour_times.iloc[i]) ])\n",
    "            period_packets.append(this_hour)                \n",
    "    return period_packets\n",
    "\n",
    "def get_period_command_list(phy, nwk, interval, adjust=True):\n",
    "    command_list = ['S', 'REG', 'GET T42',  'GET T41', 'GET P78', 'GET P79'] \n",
    "    period_command_list = []\n",
    "    period_pkts = extract_packets_by_period(phy, nwk, adjust, interval)\n",
    "    for command in command_list:\n",
    "        exp = (period_pkts['Command'] == command) \n",
    "        period_command_list.append(period_pkts.loc[exp, 'Command Time'])\n",
    "        \n",
    "    return period_command_list\n"
   ]
  },
  {
   "cell_type": "code",
   "execution_count": 6,
   "id": "36aed4fc",
   "metadata": {},
   "outputs": [],
   "source": [
    "def get_median_nwk_loss_and_delay(delay_path, loss_path, output_path='nwk_conditions.csv'):\n",
    "    median_delay = pd.read_csv(delay_path).median(axis=1)\n",
    "    median_loss = pd.read_csv(loss_path).median(axis=1)\n",
    "    aux_df = pd.concat([median_delay, median_loss],axis=1)\n",
    "    nwk_df.columns = ['Packet Loss', 'Network Delay']\n",
    "    new_df.to_csv(output_path)\n",
    "    \n",
    "def prepare_pandas(df1, df2):\n",
    "    if 'timestamp' in df1.columns:\n",
    "        aux1 = df1.drop('timestamp', axis=1).astype(float)\n",
    "    else:\n",
    "        aux1 = df1\n",
    "\n",
    "    if 'timestamp' in df2.columns:        \n",
    "        aux2 = df2.drop('timestamp', axis=1).astype(float)    \n",
    "    else:\n",
    "        aux2 = df2\n",
    "    return aux1, aux2\n",
    "\n",
    "def get_abs_deviation(df1, df2):\n",
    "    return get_diff_pandas(df1,df2).abs()\n",
    "\n",
    "def get_diff_pandas(df1, df2):\n",
    "    df1, df2 = prepare_pandas(df1, df2)    \n",
    "    return df1.sub(df2, axis='index')\n",
    "\n",
    "def get_tanks_deviations(wntr_path, dhalsim_paths, nwk_conditions_path, min_value=0, max_value=2017):\n",
    "    nwk_conditions = pd.read_csv(nwk_conditions_path)    \n",
    "    nwk_runs = []\n",
    "    wntr_runs = []\n",
    "    deviations_from_normal = []\n",
    "\n",
    "    tank_columns = ['T1_LEVEL', 'T2_LEVEL', 'T3_LEVEL', 'T4_LEVEL', 'T5_LEVEL', 'T6_LEVEL', 'T7_LEVEL']\n",
    "    \n",
    "    # Total deviations of each tank\n",
    "    deviations = []\n",
    "    \n",
    "    wntr_index = 0\n",
    "    for path in dhalsim_paths:        \n",
    "        file_path = path + '/ground_truth.csv'    \n",
    "        nwk_runs.append(pd.read_csv(file_path)[tank_columns])    \n",
    "        wntr_runs.append(pd.read_csv(wntr_paths[wntr_index])[tank_columns])\n",
    "\n",
    "        this_run_dev = []\n",
    "        for tank in tank_columns:\n",
    "            this_run_dev.append(get_abs_deviation(wntr_runs[-1], nwk_runs[-1]).iloc[min_value:max_value][tank].median())\n",
    "        \n",
    "        deviations.append(this_run_dev)\n",
    "        \n",
    "        wntr_index = wntr_index + 1 \n",
    "\n",
    "        \n",
    "    tank_df = pd.DataFrame(deviations, columns=tank_columns)        \n",
    "        \n",
    "    return tank_df\n",
    "        \n",
    "def generate_tanks_heatmap(t_df):       \n",
    "    \n",
    "    tanks_heatmaps = []\n",
    "    tuples = list(zip(nwk_conditions['Packet Loss'], nwk_conditions['Network Delay']))\n",
    "    df_index = pd.MultiIndex.from_tuples(tuples, names=['Packet Loss', 'Network Delay'])    \n",
    "    \n",
    "    for column in t_df:            \n",
    "        tuples = list(zip(nwk_conditions['Packet Loss'], nwk_conditions['Network Delay']))\n",
    "        df_index = pd.MultiIndex.from_tuples(tuples, names=['Packet Loss', 'Network Delay'])            \n",
    "        tank_df = pd.DataFrame(t_df[column].values, index=df_index, columns=['Average Deviation'])\n",
    "        tanks_heatmaps.append(tank_df.reset_index().pivot(columns='Packet Loss',index='Network Delay',values='Average Deviation'))\n",
    "    \n",
    "    return tanks_heatmaps\n",
    "\n",
    "def plot_heatmap(heatmap_list, labels, titles, filename):\n",
    "    font = {'weight' : 'normal',\n",
    "            'size'   : 18}\n",
    "    plt.rc('font', **font)        \n",
    "    sns.set_palette(sns.color_palette(\"colorblind\"))\n",
    "    \n",
    "    f, axes = plt.subplots(len(heatmap_list),1, figsize = (27,30), squeeze=False, dpi=80, sharex=False)\n",
    "    \n",
    "    heatmap_plots = []\n",
    "    subplot_index = 0\n",
    "    for df in heatmap_list:        \n",
    "        heatmap_plots.append(sns.heatmap(df, \n",
    "                                         ax=axes[subplot_index][0],\n",
    "                                         cmap=\"Blues\", \n",
    "                                         cbar_kws={'label': labels[subplot_index]},\n",
    "                                         annot=False))\n",
    "        heatmap_plots[-1].invert_yaxis()\n",
    "        heatmap_plots[-1].set_title(titles[subplot_index])\n",
    "        heatmap_plots[-1].set_xlabel('Tank Level')\n",
    "        heatmap_plots[-1].set_ylabel('Week Simulation')\n",
    "        subplot_index = subplot_index + 1        \n",
    "        \n",
    "    #plt.savefig(filename + '.png', orientation='landscape', bbox_inches='tight')\n",
    "    plt.savefig(filename + '.pdf', orientation='landscape', bbox_inches='tight') "
   ]
  },
  {
   "cell_type": "code",
   "execution_count": 7,
   "id": "04447c3c",
   "metadata": {},
   "outputs": [],
   "source": [
    "preamble_folder = '../dataset/evasion_data/'\n",
    "attack_1_no_concealment  = pd.read_csv(preamble_folder+'attack_output_38/ground_truth.csv')\n",
    "attack_1_2_no_concealment  = pd.read_csv(preamble_folder+'attack_output_45/ground_truth.csv')\n",
    "attack_3_no_concealment  = pd.read_csv(preamble_folder+'attack_output_39/ground_truth.csv')\n",
    "attack_4_no_concealment  = pd.read_csv(preamble_folder+'attack_output_40/ground_truth.csv')\n",
    "attack_9_no_concealment  = pd.read_csv(preamble_folder+'attack_output_41/ground_truth.csv')\n",
    "attack_12_no_concealment = pd.read_csv(preamble_folder+'attack_output_42/ground_truth.csv')\n",
    "attack_14_no_concealment = pd.read_csv(preamble_folder+'attack_output_43/ground_truth.csv')\n",
    "attack_14_2_no_concealment = pd.read_csv(preamble_folder+'attack_output_46/ground_truth.csv')\n",
    "\n",
    "attack_1_no_concealment_scada  = pd.read_csv(preamble_folder+'attack_output_38/scada_values.csv')\n",
    "attack_1_2_no_concealment_scada  = pd.read_csv(preamble_folder+'attack_output_45/scada_values.csv')\n",
    "attack_3_no_concealment_scada  = pd.read_csv(preamble_folder+'attack_output_39/scada_values.csv')\n",
    "attack_4_no_concealment_scada  = pd.read_csv(preamble_folder+'attack_output_40/scada_values.csv')\n",
    "attack_9_no_concealment_scada  = pd.read_csv(preamble_folder+'attack_output_41/scada_values.csv')\n",
    "attack_12_no_concealment_scada = pd.read_csv(preamble_folder+'attack_output_42/scada_values.csv')\n",
    "attack_14_no_concealment_scada = pd.read_csv(preamble_folder+'attack_output_43/scada_values.csv')\n",
    "attack_14_2_no_concealment_scada = pd.read_csv(preamble_folder+'attack_output_46/scada_values.csv')\n"
   ]
  },
  {
   "cell_type": "code",
   "execution_count": 8,
   "id": "7e5a548f",
   "metadata": {},
   "outputs": [
    {
     "ename": "FileNotFoundError",
     "evalue": "[Errno 2] No such file or directory: '../data/normal_operating_conditions_one_week/output_01/ground_truth.csv'",
     "output_type": "error",
     "traceback": [
      "\u001b[0;31m---------------------------------------------------------------------------\u001b[0m",
      "\u001b[0;31mFileNotFoundError\u001b[0m                         Traceback (most recent call last)",
      "Cell \u001b[0;32mIn[8], line 1\u001b[0m\n\u001b[0;32m----> 1\u001b[0m normal_conditions \u001b[38;5;241m=\u001b[39m pd\u001b[38;5;241m.\u001b[39mread_csv(\u001b[38;5;124m'\u001b[39m\u001b[38;5;124m../data/normal_operating_conditions_one_week/output_01/ground_truth.csv\u001b[39m\u001b[38;5;124m'\u001b[39m)\n\u001b[1;32m      2\u001b[0m normal_conditions_scada \u001b[38;5;241m=\u001b[39m pd\u001b[38;5;241m.\u001b[39mread_csv(\u001b[38;5;124m'\u001b[39m\u001b[38;5;124m../../data/normal_operating_conditions_one_week/output_01/scada_values.csv\u001b[39m\u001b[38;5;124m'\u001b[39m)\n\u001b[1;32m      4\u001b[0m attack_01 \u001b[38;5;241m=\u001b[39m pd\u001b[38;5;241m.\u001b[39mread_csv(preamble_folder\u001b[38;5;241m+\u001b[39m\u001b[38;5;124m'\u001b[39m\u001b[38;5;124mattack_output_01/ground_truth.csv\u001b[39m\u001b[38;5;124m'\u001b[39m)\n",
      "File \u001b[0;32m~/anaconda3/lib/python3.12/site-packages/pandas/io/parsers/readers.py:1026\u001b[0m, in \u001b[0;36mread_csv\u001b[0;34m(filepath_or_buffer, sep, delimiter, header, names, index_col, usecols, dtype, engine, converters, true_values, false_values, skipinitialspace, skiprows, skipfooter, nrows, na_values, keep_default_na, na_filter, verbose, skip_blank_lines, parse_dates, infer_datetime_format, keep_date_col, date_parser, date_format, dayfirst, cache_dates, iterator, chunksize, compression, thousands, decimal, lineterminator, quotechar, quoting, doublequote, escapechar, comment, encoding, encoding_errors, dialect, on_bad_lines, delim_whitespace, low_memory, memory_map, float_precision, storage_options, dtype_backend)\u001b[0m\n\u001b[1;32m   1013\u001b[0m kwds_defaults \u001b[38;5;241m=\u001b[39m _refine_defaults_read(\n\u001b[1;32m   1014\u001b[0m     dialect,\n\u001b[1;32m   1015\u001b[0m     delimiter,\n\u001b[0;32m   (...)\u001b[0m\n\u001b[1;32m   1022\u001b[0m     dtype_backend\u001b[38;5;241m=\u001b[39mdtype_backend,\n\u001b[1;32m   1023\u001b[0m )\n\u001b[1;32m   1024\u001b[0m kwds\u001b[38;5;241m.\u001b[39mupdate(kwds_defaults)\n\u001b[0;32m-> 1026\u001b[0m \u001b[38;5;28;01mreturn\u001b[39;00m _read(filepath_or_buffer, kwds)\n",
      "File \u001b[0;32m~/anaconda3/lib/python3.12/site-packages/pandas/io/parsers/readers.py:620\u001b[0m, in \u001b[0;36m_read\u001b[0;34m(filepath_or_buffer, kwds)\u001b[0m\n\u001b[1;32m    617\u001b[0m _validate_names(kwds\u001b[38;5;241m.\u001b[39mget(\u001b[38;5;124m\"\u001b[39m\u001b[38;5;124mnames\u001b[39m\u001b[38;5;124m\"\u001b[39m, \u001b[38;5;28;01mNone\u001b[39;00m))\n\u001b[1;32m    619\u001b[0m \u001b[38;5;66;03m# Create the parser.\u001b[39;00m\n\u001b[0;32m--> 620\u001b[0m parser \u001b[38;5;241m=\u001b[39m TextFileReader(filepath_or_buffer, \u001b[38;5;241m*\u001b[39m\u001b[38;5;241m*\u001b[39mkwds)\n\u001b[1;32m    622\u001b[0m \u001b[38;5;28;01mif\u001b[39;00m chunksize \u001b[38;5;129;01mor\u001b[39;00m iterator:\n\u001b[1;32m    623\u001b[0m     \u001b[38;5;28;01mreturn\u001b[39;00m parser\n",
      "File \u001b[0;32m~/anaconda3/lib/python3.12/site-packages/pandas/io/parsers/readers.py:1620\u001b[0m, in \u001b[0;36mTextFileReader.__init__\u001b[0;34m(self, f, engine, **kwds)\u001b[0m\n\u001b[1;32m   1617\u001b[0m     \u001b[38;5;28mself\u001b[39m\u001b[38;5;241m.\u001b[39moptions[\u001b[38;5;124m\"\u001b[39m\u001b[38;5;124mhas_index_names\u001b[39m\u001b[38;5;124m\"\u001b[39m] \u001b[38;5;241m=\u001b[39m kwds[\u001b[38;5;124m\"\u001b[39m\u001b[38;5;124mhas_index_names\u001b[39m\u001b[38;5;124m\"\u001b[39m]\n\u001b[1;32m   1619\u001b[0m \u001b[38;5;28mself\u001b[39m\u001b[38;5;241m.\u001b[39mhandles: IOHandles \u001b[38;5;241m|\u001b[39m \u001b[38;5;28;01mNone\u001b[39;00m \u001b[38;5;241m=\u001b[39m \u001b[38;5;28;01mNone\u001b[39;00m\n\u001b[0;32m-> 1620\u001b[0m \u001b[38;5;28mself\u001b[39m\u001b[38;5;241m.\u001b[39m_engine \u001b[38;5;241m=\u001b[39m \u001b[38;5;28mself\u001b[39m\u001b[38;5;241m.\u001b[39m_make_engine(f, \u001b[38;5;28mself\u001b[39m\u001b[38;5;241m.\u001b[39mengine)\n",
      "File \u001b[0;32m~/anaconda3/lib/python3.12/site-packages/pandas/io/parsers/readers.py:1880\u001b[0m, in \u001b[0;36mTextFileReader._make_engine\u001b[0;34m(self, f, engine)\u001b[0m\n\u001b[1;32m   1878\u001b[0m     \u001b[38;5;28;01mif\u001b[39;00m \u001b[38;5;124m\"\u001b[39m\u001b[38;5;124mb\u001b[39m\u001b[38;5;124m\"\u001b[39m \u001b[38;5;129;01mnot\u001b[39;00m \u001b[38;5;129;01min\u001b[39;00m mode:\n\u001b[1;32m   1879\u001b[0m         mode \u001b[38;5;241m+\u001b[39m\u001b[38;5;241m=\u001b[39m \u001b[38;5;124m\"\u001b[39m\u001b[38;5;124mb\u001b[39m\u001b[38;5;124m\"\u001b[39m\n\u001b[0;32m-> 1880\u001b[0m \u001b[38;5;28mself\u001b[39m\u001b[38;5;241m.\u001b[39mhandles \u001b[38;5;241m=\u001b[39m get_handle(\n\u001b[1;32m   1881\u001b[0m     f,\n\u001b[1;32m   1882\u001b[0m     mode,\n\u001b[1;32m   1883\u001b[0m     encoding\u001b[38;5;241m=\u001b[39m\u001b[38;5;28mself\u001b[39m\u001b[38;5;241m.\u001b[39moptions\u001b[38;5;241m.\u001b[39mget(\u001b[38;5;124m\"\u001b[39m\u001b[38;5;124mencoding\u001b[39m\u001b[38;5;124m\"\u001b[39m, \u001b[38;5;28;01mNone\u001b[39;00m),\n\u001b[1;32m   1884\u001b[0m     compression\u001b[38;5;241m=\u001b[39m\u001b[38;5;28mself\u001b[39m\u001b[38;5;241m.\u001b[39moptions\u001b[38;5;241m.\u001b[39mget(\u001b[38;5;124m\"\u001b[39m\u001b[38;5;124mcompression\u001b[39m\u001b[38;5;124m\"\u001b[39m, \u001b[38;5;28;01mNone\u001b[39;00m),\n\u001b[1;32m   1885\u001b[0m     memory_map\u001b[38;5;241m=\u001b[39m\u001b[38;5;28mself\u001b[39m\u001b[38;5;241m.\u001b[39moptions\u001b[38;5;241m.\u001b[39mget(\u001b[38;5;124m\"\u001b[39m\u001b[38;5;124mmemory_map\u001b[39m\u001b[38;5;124m\"\u001b[39m, \u001b[38;5;28;01mFalse\u001b[39;00m),\n\u001b[1;32m   1886\u001b[0m     is_text\u001b[38;5;241m=\u001b[39mis_text,\n\u001b[1;32m   1887\u001b[0m     errors\u001b[38;5;241m=\u001b[39m\u001b[38;5;28mself\u001b[39m\u001b[38;5;241m.\u001b[39moptions\u001b[38;5;241m.\u001b[39mget(\u001b[38;5;124m\"\u001b[39m\u001b[38;5;124mencoding_errors\u001b[39m\u001b[38;5;124m\"\u001b[39m, \u001b[38;5;124m\"\u001b[39m\u001b[38;5;124mstrict\u001b[39m\u001b[38;5;124m\"\u001b[39m),\n\u001b[1;32m   1888\u001b[0m     storage_options\u001b[38;5;241m=\u001b[39m\u001b[38;5;28mself\u001b[39m\u001b[38;5;241m.\u001b[39moptions\u001b[38;5;241m.\u001b[39mget(\u001b[38;5;124m\"\u001b[39m\u001b[38;5;124mstorage_options\u001b[39m\u001b[38;5;124m\"\u001b[39m, \u001b[38;5;28;01mNone\u001b[39;00m),\n\u001b[1;32m   1889\u001b[0m )\n\u001b[1;32m   1890\u001b[0m \u001b[38;5;28;01massert\u001b[39;00m \u001b[38;5;28mself\u001b[39m\u001b[38;5;241m.\u001b[39mhandles \u001b[38;5;129;01mis\u001b[39;00m \u001b[38;5;129;01mnot\u001b[39;00m \u001b[38;5;28;01mNone\u001b[39;00m\n\u001b[1;32m   1891\u001b[0m f \u001b[38;5;241m=\u001b[39m \u001b[38;5;28mself\u001b[39m\u001b[38;5;241m.\u001b[39mhandles\u001b[38;5;241m.\u001b[39mhandle\n",
      "File \u001b[0;32m~/anaconda3/lib/python3.12/site-packages/pandas/io/common.py:873\u001b[0m, in \u001b[0;36mget_handle\u001b[0;34m(path_or_buf, mode, encoding, compression, memory_map, is_text, errors, storage_options)\u001b[0m\n\u001b[1;32m    868\u001b[0m \u001b[38;5;28;01melif\u001b[39;00m \u001b[38;5;28misinstance\u001b[39m(handle, \u001b[38;5;28mstr\u001b[39m):\n\u001b[1;32m    869\u001b[0m     \u001b[38;5;66;03m# Check whether the filename is to be opened in binary mode.\u001b[39;00m\n\u001b[1;32m    870\u001b[0m     \u001b[38;5;66;03m# Binary mode does not support 'encoding' and 'newline'.\u001b[39;00m\n\u001b[1;32m    871\u001b[0m     \u001b[38;5;28;01mif\u001b[39;00m ioargs\u001b[38;5;241m.\u001b[39mencoding \u001b[38;5;129;01mand\u001b[39;00m \u001b[38;5;124m\"\u001b[39m\u001b[38;5;124mb\u001b[39m\u001b[38;5;124m\"\u001b[39m \u001b[38;5;129;01mnot\u001b[39;00m \u001b[38;5;129;01min\u001b[39;00m ioargs\u001b[38;5;241m.\u001b[39mmode:\n\u001b[1;32m    872\u001b[0m         \u001b[38;5;66;03m# Encoding\u001b[39;00m\n\u001b[0;32m--> 873\u001b[0m         handle \u001b[38;5;241m=\u001b[39m \u001b[38;5;28mopen\u001b[39m(\n\u001b[1;32m    874\u001b[0m             handle,\n\u001b[1;32m    875\u001b[0m             ioargs\u001b[38;5;241m.\u001b[39mmode,\n\u001b[1;32m    876\u001b[0m             encoding\u001b[38;5;241m=\u001b[39mioargs\u001b[38;5;241m.\u001b[39mencoding,\n\u001b[1;32m    877\u001b[0m             errors\u001b[38;5;241m=\u001b[39merrors,\n\u001b[1;32m    878\u001b[0m             newline\u001b[38;5;241m=\u001b[39m\u001b[38;5;124m\"\u001b[39m\u001b[38;5;124m\"\u001b[39m,\n\u001b[1;32m    879\u001b[0m         )\n\u001b[1;32m    880\u001b[0m     \u001b[38;5;28;01melse\u001b[39;00m:\n\u001b[1;32m    881\u001b[0m         \u001b[38;5;66;03m# Binary mode\u001b[39;00m\n\u001b[1;32m    882\u001b[0m         handle \u001b[38;5;241m=\u001b[39m \u001b[38;5;28mopen\u001b[39m(handle, ioargs\u001b[38;5;241m.\u001b[39mmode)\n",
      "\u001b[0;31mFileNotFoundError\u001b[0m: [Errno 2] No such file or directory: '../data/normal_operating_conditions_one_week/output_01/ground_truth.csv'"
     ]
    }
   ],
   "source": [
    "normal_conditions = pd.read_csv('../dataset/normal_operating_conditions_one_week/output_01/ground_truth.csv')\n",
    "normal_conditions_scada = pd.read_csv('../dataset/normal_operating_conditions_one_week/output_01/scada_values.csv')\n",
    "\n",
    "attack_01 = pd.read_csv(preamble_folder+'attack_output_01/ground_truth.csv')\n",
    "attack_01_scada = pd.read_csv(preamble_folder+'attack_output_01/scada_values.csv')\n",
    "\n",
    "attack_02 = pd.read_csv(preamble_folder+'attack_output_02/ground_truth.csv')\n",
    "attack_02_scada = pd.read_csv(preamble_folder+'attack_output_02/scada_values.csv')\n",
    "\n",
    "attack_44 = pd.read_csv(preamble_folder+'attack_output_44/ground_truth.csv')\n",
    "attack_44_scada = pd.read_csv(preamble_folder+'attack_output_44/scada_values.csv')\n",
    "\n",
    "attack_03 = pd.read_csv(preamble_folder+'attack_output_03/ground_truth.csv')\n",
    "attack_03_scada = pd.read_csv(preamble_folder+'attack_output_03/scada_values.csv')\n",
    "\n",
    "attack_04 = pd.read_csv(preamble_folder+'attack_output_04/ground_truth.csv')\n",
    "attack_04_scada = pd.read_csv(preamble_folder+'attack_output_04/scada_values.csv')\n",
    "\n",
    "attack_05 = pd.read_csv(preamble_folder+'attack_output_05/ground_truth.csv')\n",
    "attack_05_scada = pd.read_csv(preamble_folder+'attack_output_05/scada_values.csv')\n",
    "\n",
    "attack_06 = pd.read_csv(preamble_folder+'attack_output_06/ground_truth.csv')\n",
    "attack_06_scada = pd.read_csv(preamble_folder+'attack_output_06/scada_values.csv')\n",
    "\n",
    "attack_07 = pd.read_csv(preamble_folder+'attack_output_07/ground_truth.csv')\n",
    "attack_07_scada = pd.read_csv(preamble_folder+'attack_output_07/scada_values.csv')\n",
    "\n",
    "attack_08 = pd.read_csv(preamble_folder+'attack_output_08/ground_truth.csv')\n",
    "attack_08_scada = pd.read_csv(preamble_folder+'attack_output_08/scada_values.csv')\n",
    "\n",
    "attack_09 = pd.read_csv(preamble_folder+'attack_output_09/ground_truth.csv')\n",
    "attack_09_scada = pd.read_csv(preamble_folder+'attack_output_09/scada_values.csv')\n",
    "\n",
    "attack_10 = pd.read_csv(preamble_folder+'attack_output_10/ground_truth.csv')\n",
    "attack_10_scada = pd.read_csv(preamble_folder+'attack_output_10/scada_values.csv')\n",
    "\n",
    "attack_11 = pd.read_csv(preamble_folder+'attack_output_11/ground_truth.csv')\n",
    "attack_11_scada = pd.read_csv(preamble_folder+'attack_output_11/scada_values.csv')\n",
    "\n",
    "attack_12 = pd.read_csv(preamble_folder+'attack_output_12/ground_truth.csv')\n",
    "attack_12_scada = pd.read_csv(preamble_folder+'attack_output_12/scada_values.csv')\n",
    "\n",
    "attack_13 = pd.read_csv(preamble_folder+'attack_output_13/ground_truth.csv')\n",
    "attack_13_scada = pd.read_csv(preamble_folder+'attack_output_13/scada_values.csv')\n",
    "\n",
    "attack_14 = pd.read_csv(preamble_folder+'attack_output_14/ground_truth.csv')\n",
    "attack_14_scada = pd.read_csv(preamble_folder+'attack_output_14/scada_values.csv')\n",
    "\n",
    "attack_15 = pd.read_csv(preamble_folder+'attack_output_15/ground_truth.csv')\n",
    "attack_15_scada = pd.read_csv(preamble_folder+'attack_output_15/scada_values.csv')\n",
    "\n",
    "attack_25 = pd.read_csv(preamble_folder+'attack_output_25/ground_truth.csv')\n",
    "attack_25_scada = pd.read_csv(preamble_folder+'attack_output_25/scada_values.csv')\n",
    "\n",
    "attack_26 = pd.read_csv(preamble_folder+'attack_output_26/ground_truth.csv')\n",
    "attack_26_scada = pd.read_csv(preamble_folder+'attack_output_26/scada_values.csv')\n",
    "\n",
    "attack_27 = pd.read_csv(preamble_folder+'attack_output_27/ground_truth.csv')\n",
    "attack_27_scada = pd.read_csv(preamble_folder+'attack_output_27/scada_values.csv')\n",
    "\n",
    "attack_28 = pd.read_csv(preamble_folder+'attack_output_28/ground_truth.csv')\n",
    "attack_28_scada = pd.read_csv(preamble_folder+'attack_output_28/scada_values.csv')\n",
    "\n",
    "attack_29 = pd.read_csv(preamble_folder+'attack_output_29/ground_truth.csv')\n",
    "attack_29_scada = pd.read_csv(preamble_folder+'attack_output_29/scada_values.csv')\n",
    "\n",
    "attack_34 = pd.read_csv(preamble_folder+'attack_output_34/ground_truth.csv')\n",
    "attack_34_scada = pd.read_csv(preamble_folder+'attack_output_34/scada_values.csv')\n",
    "\n",
    "attack_35 = pd.read_csv(preamble_folder+'attack_output_35/ground_truth.csv')\n",
    "attack_35_scada = pd.read_csv(preamble_folder+'attack_output_35/scada_values.csv')\n",
    "\n",
    "attack_36 = pd.read_csv(preamble_folder+'attack_output_36/ground_truth.csv')\n",
    "attack_36_scada = pd.read_csv(preamble_folder+'attack_output_36/scada_values.csv')\n",
    "\n",
    "attack_37 = pd.read_csv(preamble_folder+'attack_output_37/ground_truth.csv')\n",
    "attack_37_scada = pd.read_csv(preamble_folder+'attack_output_37/scada_values.csv')\n",
    "\n"
   ]
  },
  {
   "cell_type": "code",
   "execution_count": null,
   "id": "755d13ae",
   "metadata": {},
   "outputs": [],
   "source": [
    "run_markers = ['1', '2', '3', '4', '+', 'x']"
   ]
  },
  {
   "cell_type": "markdown",
   "id": "42c9b331",
   "metadata": {},
   "source": [
    "# Anomalies 1 vs 1.2 Compare Physical Effect"
   ]
  },
  {
   "cell_type": "code",
   "execution_count": null,
   "id": "ae71efca",
   "metadata": {},
   "outputs": [],
   "source": [
    "first_tanks = ['T6_LEVEL','T7_LEVEL', 'PU10_STATUS']\n",
    "plot_attacks([normal_conditions, attack_1_no_concealment, attack_1_2_no_concealment], first_tanks, \n",
    "           ['Normal conditions','Physical effect 1', 'Physical effect 1.2'],  first_tanks, sub_filename = 'plots/1vs1_2physical', \n",
    "           y_label=['level (m)', 'level (m)', 'status'], xlim = [0,2880], markers=run_markers, dim1=27/2.5, dim2=23/2.5)"
   ]
  },
  {
   "cell_type": "markdown",
   "id": "03ded607",
   "metadata": {},
   "source": [
    "# Anomalies 1 vs 1.2 Compare Attack Strategy"
   ]
  },
  {
   "cell_type": "code",
   "execution_count": null,
   "id": "64118369",
   "metadata": {},
   "outputs": [],
   "source": [
    "first_tanks = ['T6', 'T7', 'PU10']\n",
    "plot_attacks([normal_conditions_scada, attack_1_no_concealment_scada, attack_1_2_no_concealment_scada], first_tanks, \n",
    "           ['Normal conditions','Attack strategy 1', 'Attack strategy 1.2'],  first_tanks, sub_filename = 'plots/1vs1_2attack_strategy', \n",
    "           y_label=['level (m)', 'level (m)', 'status'], xlim = [0,2880], markers=run_markers, dim1=27/2.5, dim2=23/2.5)"
   ]
  },
  {
   "cell_type": "markdown",
   "id": "9d62ed0c",
   "metadata": {},
   "source": [
    "# Anomalies 1-5 Ground Truth (to check if the conceal is applied on the same physical anomaly)"
   ]
  },
  {
   "cell_type": "code",
   "execution_count": null,
   "id": "9932d2e5",
   "metadata": {},
   "outputs": [],
   "source": [
    "first_tanks = ['T1_LEVEL', 'T2_LEVEL', 'T3_LEVEL', 'T4_LEVEL', 'T5_LEVEL', 'T6_LEVEL', 'T7_LEVEL']\n",
    "plot_attacks([attack_1_no_concealment, attack_01], first_tanks, \n",
    "           ['Physical effect 1', '01 ground truth'],  first_tanks, sub_filename = 'batadal_20', \n",
    "           y_label='level (m)', xlim = [0,2880], markers=run_markers)"
   ]
  },
  {
   "cell_type": "code",
   "execution_count": null,
   "id": "827037c4",
   "metadata": {},
   "outputs": [],
   "source": [
    "first_tanks = ['T1_LEVEL', 'T2_LEVEL', 'T3_LEVEL', 'T4_LEVEL', 'T5_LEVEL', 'T6_LEVEL', 'T7_LEVEL']\n",
    "plot_attacks([attack_1_2_no_concealment, attack_05], first_tanks, \n",
    "           ['Physical effect 1.2', '05 ground truth'],  first_tanks, sub_filename = 'batadal_20', \n",
    "           y_label='level (m)', xlim = [0,2880], markers=run_markers)"
   ]
  },
  {
   "cell_type": "code",
   "execution_count": null,
   "id": "5e655e01",
   "metadata": {},
   "outputs": [],
   "source": [
    "\n",
    "first_tanks = ['T1_LEVEL', 'T2_LEVEL', 'T3_LEVEL', 'T4_LEVEL', 'T5_LEVEL', 'T6_LEVEL', 'T7_LEVEL']\n",
    "plot_attacks([normal_conditions, attack_01, attack_02, attack_44], first_tanks, \n",
    "           ['Normal Operating Conditions', \n",
    "            'Concealment Attack 1', \n",
    "            'Concealment Attack 2', \n",
    "            'Concealment Attack 44'],  first_tanks, sub_filename = 'batadal_20', \n",
    "           y_label='level (m)', xlim = [0,2880], markers=run_markers)"
   ]
  },
  {
   "cell_type": "code",
   "execution_count": null,
   "id": "b0ecd24e",
   "metadata": {},
   "outputs": [],
   "source": [
    "first_tanks = ['T1_LEVEL', 'T2_LEVEL', 'T3_LEVEL', 'T4_LEVEL', 'T5_LEVEL', 'T6_LEVEL', 'T7_LEVEL']\n",
    "plot_attacks([normal_conditions, attack_03, attack_04, attack_05 ], first_tanks, \n",
    "           ['Normal Operating Conditions', \n",
    "            'Concealment Attack 3 - MiTM Attack. Payload Replay',\n",
    "            'Concealment Attack 4 - MiTM Attack. Network Replay',\n",
    "            'Concealment Attack 5 - MiTM Attack. Learning Based'],  first_tanks, sub_filename = 'batadal_20', \n",
    "           y_label='level (m)', xlim = [0,2880], markers=run_markers)"
   ]
  },
  {
   "cell_type": "markdown",
   "id": "4021e73d",
   "metadata": {},
   "source": [
    "## Anomalies 1-5 SCADA Values"
   ]
  },
  {
   "cell_type": "code",
   "execution_count": null,
   "id": "d26dea46",
   "metadata": {},
   "outputs": [],
   "source": [
    "run_markers = ['1', '2', '3', '4', '+', 'x']\n",
    "first_tanks = ['T6', 'T7','PU10']\n",
    "plot_attacks([attack_1_no_concealment_scada, attack_01_scada, attack_02_scada, attack_44_scada], first_tanks, \n",
    "           ['Actual values', \n",
    "            'Concealment Attack 1', \n",
    "            'Concealment Attack 2',\n",
    "            'Concealment Attack 44',\n",
    "            ],  first_tanks, sub_filename = 'plots/1vs01vs02vs44scada', \n",
    "           y_label=['level (m)', 'level (m)', 'status'], xlim = [0,2880], markers=run_markers,dim1=27/2.5, dim2=23/2.5)"
   ]
  },
  {
   "cell_type": "code",
   "execution_count": null,
   "id": "a6f9f1b8",
   "metadata": {},
   "outputs": [],
   "source": [
    "run_markers = ['1', '2', '3', '4', '+', 'x']\n",
    "first_tanks = ['T6', 'T7','PU10']\n",
    "plot_attacks([attack_1_2_no_concealment_scada, attack_03_scada, attack_04_scada, attack_05_scada], first_tanks, \n",
    "           ['Actual Values', \n",
    "            'Concealment Attack 3',\n",
    "            'Concealment Attack 4',\n",
    "            'Concealment Attack 5'],  first_tanks, sub_filename = 'plots/1_2vs03vs04vs05scada', \n",
    "           y_label=['level (m)', 'level (m)', 'status'], xlim = [0,2880], markers=run_markers,dim1=27/2.5, dim2=23/2.5)"
   ]
  },
  {
   "cell_type": "markdown",
   "id": "abce9dd2",
   "metadata": {},
   "source": [
    "# Anomalies 6-10"
   ]
  },
  {
   "cell_type": "markdown",
   "id": "8c3b247f",
   "metadata": {},
   "source": [
    "## Ground Truth"
   ]
  },
  {
   "cell_type": "code",
   "execution_count": null,
   "id": "c769c829",
   "metadata": {},
   "outputs": [],
   "source": [
    "run_markers = ['1', '2', '3', '4', '+', 'x']"
   ]
  },
  {
   "cell_type": "code",
   "execution_count": null,
   "id": "68b8adff",
   "metadata": {},
   "outputs": [],
   "source": [
    "first_tanks = ['T1_LEVEL', 'T2_LEVEL', 'T3_LEVEL', 'T4_LEVEL', 'T5_LEVEL', 'T6_LEVEL', 'T7_LEVEL']\n",
    "plot_attacks([attack_1_no_concealment, attack_06], first_tanks, \n",
    "           ['Physical effect 2', '06 ground truth'],  first_tanks, sub_filename = 'batadal_20', \n",
    "           y_label='level (m)', xlim = [0,2880], markers=run_markers,attack_begin_line=1440, attack_end_line=1812)"
   ]
  },
  {
   "cell_type": "code",
   "execution_count": null,
   "id": "e716ab36",
   "metadata": {},
   "outputs": [],
   "source": [
    "first_tanks = ['T1_LEVEL', 'T2_LEVEL', 'T3_LEVEL', 'T4_LEVEL', 'T5_LEVEL', 'T6_LEVEL', 'T7_LEVEL']\n",
    "plot_attacks([attack_1_2_no_concealment, attack_10], first_tanks, \n",
    "           ['Physical effect 2.2', '10 ground truth'],  first_tanks, sub_filename = 'batadal_20', \n",
    "           y_label='level (m)', xlim = [0,2880], markers=run_markers,attack_begin_line=1440, attack_end_line=1812)"
   ]
  },
  {
   "cell_type": "code",
   "execution_count": null,
   "id": "65fc08a1",
   "metadata": {},
   "outputs": [],
   "source": [
    "first_tanks = ['T1_LEVEL', 'T2_LEVEL', 'T3_LEVEL', 'T4_LEVEL', 'T5_LEVEL', 'T6_LEVEL', 'T7_LEVEL']\n",
    "plot_attacks([normal_conditions, attack_06, attack_07, attack_08 ], first_tanks, \n",
    "           ['Normal Operating Conditions', \n",
    "            'Anomaly 6',\n",
    "            'Anomaly 7',\n",
    "            'Anomaly 8'],  first_tanks, sub_filename = 'batadal_20', \n",
    "           y_label='level (m)', xlim = [0,2880], markers=run_markers,attack_begin_line=1440, attack_end_line=1812)"
   ]
  },
  {
   "cell_type": "code",
   "execution_count": null,
   "id": "b0121e54",
   "metadata": {},
   "outputs": [],
   "source": [
    "run_markers = ['1', '2', '3', '4', '+', 'x']\n",
    "first_tanks = ['T1_LEVEL', 'T2_LEVEL', 'T3_LEVEL', 'T4_LEVEL', 'T5_LEVEL', 'T6_LEVEL', 'T7_LEVEL']\n",
    "plot_attacks([normal_conditions, attack_09, attack_10 ], first_tanks, \n",
    "           ['Normal Operating Conditions', \n",
    "            'Anomaly 9',\n",
    "            'Anomaly 10'],  first_tanks, sub_filename = 'batadal_20', \n",
    "           y_label='level (m)', xlim = [0,2880], markers=run_markers,attack_begin_line=1440, attack_end_line=1812)"
   ]
  },
  {
   "cell_type": "markdown",
   "id": "d987fda8",
   "metadata": {},
   "source": [
    "## SCADA Values"
   ]
  },
  {
   "cell_type": "code",
   "execution_count": null,
   "id": "96fed47d",
   "metadata": {},
   "outputs": [],
   "source": [
    "run_markers = ['1', '2', '3', '4', '+', 'x']\n",
    "first_tanks = ['T6', 'T7','PU10']\n",
    "plot_attacks([attack_1_no_concealment_scada, attack_06_scada, attack_07_scada], first_tanks, \n",
    "           ['Actual Values', \n",
    "             'Concealment Attack 6' ,\n",
    "            'Concealment Attack 7'],  first_tanks, sub_filename = 'plots/1vs06vs07scada', \n",
    "            y_label=['level (m)', 'level (m)', 'status'], xlim = [0,2880], markers=run_markers,attack_begin_line=1440, attack_end_line=1812,\n",
    "            dim1=27/2.5, dim2=23/2.5)"
   ]
  },
  {
   "cell_type": "code",
   "execution_count": null,
   "id": "1176575f",
   "metadata": {},
   "outputs": [],
   "source": [
    "first_tanks = ['T6', 'T7','PU10']\n",
    "plot_attacks([attack_1_2_no_concealment_scada, attack_08_scada,attack_09_scada, attack_10_scada], first_tanks, \n",
    "           ['Normal Operating Conditions',\n",
    "            'Concealment Attack 8',\n",
    "            'Concealment Attack  9',\n",
    "            'Concealment Attack 10'\n",
    "           ]\n",
    "            ,  first_tanks, sub_filename = 'plots/1_2vs08vs09vs10scada', \n",
    "           y_label=['level (m)', 'level (m)', 'status'], xlim = [0,2880], markers=run_markers,attack_begin_line=1440, attack_end_line=1812,\n",
    "            dim1=27/2.5, dim2=23/2.5)"
   ]
  },
  {
   "cell_type": "markdown",
   "id": "53472507",
   "metadata": {},
   "source": [
    "# Anomalies 3 vs 4 Compare Physical Effect"
   ]
  },
  {
   "cell_type": "code",
   "execution_count": null,
   "id": "ca4f9d7e",
   "metadata": {},
   "outputs": [],
   "source": [
    "first_tanks = ['T1_LEVEL','PU2_STATUS', 'J269_LEVEL']\n",
    "plot_attacks([normal_conditions, attack_3_no_concealment, attack_4_no_concealment], first_tanks, \n",
    "           ['Normal conditions','Physical effect 3', 'Physical effect 4'],  first_tanks,\n",
    "             sub_filename = 'plots/3vs4physical', \n",
    "            y_label=['level (m)', 'status', 'liter/second'], xlim = [0,2880], markers=run_markers, \n",
    "             attack_begin_line=[1440, 1600], attack_end_line=[1812, 2728], dim1=27/2.5, dim2=23/2.5)"
   ]
  },
  {
   "cell_type": "markdown",
   "id": "554df318",
   "metadata": {},
   "source": [
    "# Anomalies 3 vs 4 Compare Attack Strategy"
   ]
  },
  {
   "cell_type": "code",
   "execution_count": null,
   "id": "ead3bce6",
   "metadata": {},
   "outputs": [],
   "source": [
    "first_tanks = ['T1', 'PU2', 'J269']\n",
    "plot_attacks([normal_conditions_scada, attack_3_no_concealment_scada, attack_4_no_concealment_scada], first_tanks, \n",
    "           ['Normal conditions','Attack strategy 3', 'Attack strategy 4'],  first_tanks,\n",
    "             sub_filename = 'plots/3vs4attack_strategy', \n",
    "           y_label=['level (m)', 'status', 'liter/second'], xlim = [0,2880], markers=run_markers, \n",
    "             attack_begin_line=[1440, 1600], attack_end_line=[1812, 2728], dim1=27/2.5, dim2=23/2.5)"
   ]
  },
  {
   "cell_type": "markdown",
   "id": "ea4adfea",
   "metadata": {},
   "source": [
    "# Anomalies 11-13 Ground Truth "
   ]
  },
  {
   "cell_type": "code",
   "execution_count": null,
   "id": "e1c61e0f",
   "metadata": {},
   "outputs": [],
   "source": [
    "first_tanks = ['T1_LEVEL', 'T2_LEVEL', 'T3_LEVEL', 'T4_LEVEL', 'T5_LEVEL', 'T6_LEVEL', 'T7_LEVEL']\n",
    "plot_attacks([attack_3_no_concealment, attack_13], first_tanks, \n",
    "           ['Physical effect 39', '11 ground truth'],  first_tanks, sub_filename = 'batadal_20', \n",
    "           y_label='level (m)', xlim = [0,2880], markers=run_markers,attack_begin_line=1440, attack_end_line=1812)"
   ]
  },
  {
   "cell_type": "code",
   "execution_count": null,
   "id": "8fd73a8e",
   "metadata": {},
   "outputs": [],
   "source": [
    "run_markers = ['1', '2', '3', '4', '+', 'x']\n",
    "first_tanks = ['T1_LEVEL', 'T2_LEVEL', 'T3_LEVEL', 'T4_LEVEL', 'T5_LEVEL', 'PU1_STATUS', 'PU2_STATUS']\n",
    "plot_attacks([normal_conditions, attack_11, attack_12, attack_13], first_tanks, \n",
    "           ['Normal Operating Conditions', \n",
    "            'Anomaly 11',\n",
    "            'Anomaly 12', 'Anomaly 13'],  first_tanks, sub_filename = 'batadal_20', \n",
    "           y_label='level (m)', xlim = [0,2880], markers=run_markers, attack_begin_line=1440, attack_end_line=1812)"
   ]
  },
  {
   "cell_type": "markdown",
   "id": "a198fd55",
   "metadata": {},
   "source": [
    "# Anomalies 11-13 SCADA Values"
   ]
  },
  {
   "cell_type": "code",
   "execution_count": null,
   "id": "fe905c49",
   "metadata": {},
   "outputs": [],
   "source": [
    "run_markers = ['1', '2', '3', '4', '+', 'x']\n",
    "first_tanks = ['T1', 'PU2', 'J269']\n",
    "plot_attacks([attack_3_no_concealment_scada, attack_11_scada, attack_12_scada, attack_13_scada], first_tanks, \n",
    "           ['Actual Values', \n",
    "            'Concealment Attack 11', 'Concealment Attack 12', 'Concealment Attack 13' ],  first_tanks, sub_filename = 'plots/3vs11vs12vs13scada', \n",
    "           y_label=['level (m)', 'status', 'liter/second'], xlim = [0,2880], markers=run_markers, attack_begin_line=1440, attack_end_line=1812, dim1=27/2.5, dim2=23/2.5)"
   ]
  },
  {
   "cell_type": "markdown",
   "id": "f2df4a76",
   "metadata": {},
   "source": [
    "# Anomalies 14-15 Ground Truth "
   ]
  },
  {
   "cell_type": "code",
   "execution_count": null,
   "id": "cc6f04b8",
   "metadata": {},
   "outputs": [],
   "source": [
    "first_tanks = ['T1_LEVEL', 'T2_LEVEL', 'T3_LEVEL', 'T4_LEVEL', 'T5_LEVEL', 'T6_LEVEL', 'T7_LEVEL']\n",
    "plot_attacks([attack_4_no_concealment, attack_14], first_tanks, \n",
    "           ['Physical effect 40', '14 ground truth'],  first_tanks, sub_filename = 'batadal_20', \n",
    "           y_label='level (m)', xlim = [0,2880], markers=run_markers,attack_begin_line=1600, attack_end_line=2728)"
   ]
  },
  {
   "cell_type": "code",
   "execution_count": null,
   "id": "5ca180a1",
   "metadata": {},
   "outputs": [],
   "source": [
    "plot_attacks([normal_conditions, attack_14, attack_15], first_tanks,\n",
    "           ['Normal Operating Conditions', \n",
    "            'Anomaly 14',\n",
    "            'Anomaly 15'],  first_tanks, sub_filename = 'batadal_20', \n",
    "           y_label='level (m)', xlim = [0,2880], markers=run_markers, attack_begin_line=1600, attack_end_line=2728)"
   ]
  },
  {
   "cell_type": "markdown",
   "id": "80f77e88",
   "metadata": {},
   "source": [
    "# Anomalies 14-15 SCADA Values"
   ]
  },
  {
   "cell_type": "code",
   "execution_count": null,
   "id": "2f54e754",
   "metadata": {},
   "outputs": [],
   "source": [
    "run_markers = ['1', '2', '3', '4', '+', 'x']\n",
    "first_tanks = ['T1', 'PU2', 'J269']\n",
    "plot_attacks([attack_4_no_concealment_scada, attack_14_scada, attack_15_scada], first_tanks, \n",
    "           ['Actual Values', \n",
    "            'Concealment Attack 14' ,\n",
    "            'Concealment Attack 15'],  first_tanks, sub_filename = 'plots/4vs14vs15scada', \n",
    "           y_label=['level (m)', 'status', 'liter/second'], xlim = [0,2880], markers=run_markers, attack_begin_line=1600, attack_end_line=2728, dim1=27/2.5, dim2=23/2.5)"
   ]
  },
  {
   "cell_type": "markdown",
   "id": "d1fdf628",
   "metadata": {},
   "source": [
    "# Anomalies 9 vs 12 Compare Physical Effect"
   ]
  },
  {
   "cell_type": "code",
   "execution_count": null,
   "id": "7c909bcb",
   "metadata": {},
   "outputs": [],
   "source": [
    "run_markers = ['1', '2', '3', '4', '+', 'x']\n",
    "first_tanks = ['T2_LEVEL', 'V2_STATUS', 'J14_LEVEL']\n",
    "plot_attacks([normal_conditions, attack_9_no_concealment, attack_12_no_concealment], first_tanks, \n",
    "           ['Normal Operating Conditions', \n",
    "            'Physical effect 9',\n",
    "            'Physical effect 12'],  first_tanks, sub_filename = 'plots/9vs12physical', \n",
    "           y_label=['level (m)', 'status', 'liter/second'], xlim = [0,2880], markers=run_markers, attack_begin_line=1600, attack_end_line=2728,\n",
    "            dim1=27/2.5,dim2=23/2.5)"
   ]
  },
  {
   "cell_type": "code",
   "execution_count": null,
   "id": "62b72526",
   "metadata": {},
   "outputs": [],
   "source": [
    "run_markers = ['1', '2', '3', '4', '+', 'x']\n",
    "first_tanks = ['T2', 'V2', 'J14']\n",
    "plot_attacks([normal_conditions_scada, attack_9_no_concealment_scada, attack_12_no_concealment_scada], first_tanks, \n",
    "           ['Normal Operating Conditions', \n",
    "            'Attack strategy 9',\n",
    "            'Attack strategy 12'],  first_tanks, sub_filename = 'plots/9vs12attack_strategy', \n",
    "           y_label=['level (m)', 'status', 'liter/second'], xlim = [0,2880], markers=run_markers, attack_begin_line=1600, attack_end_line=2728,\n",
    "            dim1=27/2.5,dim2=23/2.5)"
   ]
  },
  {
   "cell_type": "markdown",
   "id": "6e301bd3",
   "metadata": {},
   "source": [
    "# Anomalies 25-26 Ground Truth "
   ]
  },
  {
   "cell_type": "code",
   "execution_count": null,
   "id": "6360e6c1",
   "metadata": {},
   "outputs": [],
   "source": [
    "first_tanks = ['T1_LEVEL', 'T2_LEVEL', 'T3_LEVEL', 'T4_LEVEL', 'T5_LEVEL', 'T6_LEVEL', 'T7_LEVEL']\n",
    "plot_attacks([attack_9_no_concealment, attack_25], first_tanks, \n",
    "           ['Physical effect 41', '25 ground truth'],  first_tanks, sub_filename = 'batadal_20', \n",
    "           y_label='level (m)', xlim = [0,2880], markers=run_markers,attack_begin_line=1600, attack_end_line=2728)"
   ]
  },
  {
   "cell_type": "code",
   "execution_count": null,
   "id": "527ee8e8",
   "metadata": {},
   "outputs": [],
   "source": [
    "first_tanks = ['T1_LEVEL', 'T2_LEVEL', 'T3_LEVEL', 'T4_LEVEL', 'T5_LEVEL', 'T6_LEVEL', 'V2_STATUS']\n",
    "plot_attacks([normal_conditions, attack_25, attack_26], first_tanks, \n",
    "           ['Normal Operating Conditions', \n",
    "            'Anomaly 25',\n",
    "            'Anomaly 26'],  first_tanks, sub_filename = 'batadal_20', \n",
    "           y_label='level (m)', xlim = [0,2880], markers=run_markers, attack_begin_line=1600, attack_end_line=2728)"
   ]
  },
  {
   "cell_type": "markdown",
   "id": "6cb98b16",
   "metadata": {},
   "source": [
    "# Anomalies 25-26 SCADA Values"
   ]
  },
  {
   "cell_type": "code",
   "execution_count": null,
   "id": "df9e7418",
   "metadata": {},
   "outputs": [],
   "source": [
    "run_markers = ['1', '2', '3', '4', '+', 'x']\n",
    "first_tanks = ['T2', 'V2', 'J14']\n",
    "plot_attacks([attack_9_no_concealment_scada, attack_25_scada, attack_26_scada], first_tanks, \n",
    "           ['Actual Value', \n",
    "            'Concealment Attack 25' ,\n",
    "            'Concealment Attack 26'],  first_tanks, sub_filename = 'plots/9vs25vs26scada', \n",
    "           y_label=['level (m)', 'status', 'liter/second'], xlim = [0,2880], markers=run_markers,attack_begin_line=1600, attack_end_line=2728,\n",
    "            dim1=27/2.5, dim2=23/2.5)"
   ]
  },
  {
   "cell_type": "markdown",
   "id": "bf5e3594",
   "metadata": {},
   "source": [
    "# Anomalies 27-29 Ground Truth "
   ]
  },
  {
   "cell_type": "code",
   "execution_count": null,
   "id": "22324011",
   "metadata": {},
   "outputs": [],
   "source": [
    "first_tanks = ['T1_LEVEL', 'T2_LEVEL', 'T3_LEVEL', 'T4_LEVEL', 'T5_LEVEL', 'T6_LEVEL', 'T7_LEVEL']\n",
    "plot_attacks([attack_12_no_concealment, attack_27], first_tanks, \n",
    "           ['Physical effect 42', '27 ground truth'],  first_tanks, sub_filename = 'batadal_20', \n",
    "           y_label='level (m)', xlim = [0,2880], markers=run_markers,attack_begin_line=1600, attack_end_line=2728)"
   ]
  },
  {
   "cell_type": "code",
   "execution_count": null,
   "id": "17a46a6e",
   "metadata": {},
   "outputs": [],
   "source": [
    "first_tanks = ['T1_LEVEL', 'T2_LEVEL', 'T3_LEVEL', 'T4_LEVEL', 'T5_LEVEL', 'T6_LEVEL', 'T7_LEVEL']\n",
    "plot_attacks([normal_conditions, attack_27, attack_28, attack_29], first_tanks, \n",
    "           ['Normal Operating Conditions', \n",
    "            'Anomaly 27',\n",
    "            'Anomaly 28',\n",
    "            'Anomaly 29'],  first_tanks, sub_filename = 'batadal_20', \n",
    "           y_label='level (m)', xlim = [0,2880], markers=run_markers,attack_begin_line=1600, attack_end_line=2728)"
   ]
  },
  {
   "cell_type": "markdown",
   "id": "cbad790a",
   "metadata": {},
   "source": [
    "# Anomalies 27-29 SCADA Values"
   ]
  },
  {
   "cell_type": "code",
   "execution_count": null,
   "id": "c9c5c6d3",
   "metadata": {},
   "outputs": [],
   "source": [
    "run_markers = ['1', '2', '3', '4', '+', 'x']\n",
    "first_tanks = ['T2', 'V2', 'J14']\n",
    "plot_attacks([attack_12_no_concealment_scada, attack_27_scada, attack_28_scada, attack_29_scada], first_tanks, \n",
    "           ['Actual Value', \n",
    "            'Concealment Attack 27' ,\n",
    "            'Concealment Attack 28',\n",
    "            'Concealment Attack 29'],  first_tanks, sub_filename = 'plots/12vs27vs28scadavs29scada', \n",
    "           y_label=['level (m)', 'status', 'liter/second'], xlim = [0,2880], markers=run_markers,attack_begin_line=1600, attack_end_line=2728,\n",
    "            dim1=27/2.5, dim2=23/2.5)"
   ]
  },
  {
   "cell_type": "markdown",
   "id": "39ae20ed",
   "metadata": {},
   "source": [
    "# Compare 14 vs 14.2 physical"
   ]
  },
  {
   "cell_type": "code",
   "execution_count": null,
   "id": "fd43c3db",
   "metadata": {},
   "outputs": [],
   "source": [
    "first_tanks = ['T4_LEVEL', 'PU6_STATUS', 'PU7_STATUS']\n",
    "plot_attacks([normal_conditions, attack_14_no_concealment, attack_14_2_no_concealment], first_tanks, \n",
    "           ['Normal operating conditions', 'Physical effect 14', 'Physical effect 14.2'],  first_tanks, sub_filename = 'plots/14vs14_2physical', \n",
    "           y_label=['level (m)', 'status', 'status'], xlim = [0,2880], markers=run_markers,attack_begin_line=1368, attack_end_line=1750,\n",
    "            dim1=27/2.5, dim2=23/2.5)"
   ]
  },
  {
   "cell_type": "code",
   "execution_count": null,
   "id": "6b02bf68",
   "metadata": {},
   "outputs": [],
   "source": [
    "first_tanks = ['T4', 'PU6', 'PU7']\n",
    "plot_attacks([normal_conditions_scada, attack_14_no_concealment_scada, attack_14_2_no_concealment_scada], first_tanks, \n",
    "           ['Normal operating conditions', 'Attack stategy 14', 'Attack strategy 14.2'],  first_tanks, sub_filename = 'plots/14vs14_2attack_strategy', \n",
    "           y_label=['level (m)', 'status', 'status'], xlim = [0,2880], markers=run_markers,attack_begin_line=1368, attack_end_line=1750,\n",
    "            dim1=27/2.5, dim2=20/2.5)"
   ]
  },
  {
   "cell_type": "markdown",
   "id": "81c7b156",
   "metadata": {},
   "source": [
    "# Anomalies 34-37 Ground Truth "
   ]
  },
  {
   "cell_type": "code",
   "execution_count": null,
   "id": "acfc4a6d",
   "metadata": {},
   "outputs": [],
   "source": [
    "first_tanks = ['T1_LEVEL', 'T2_LEVEL', 'T3_LEVEL', 'T4_LEVEL', 'T5_LEVEL', 'T6_LEVEL', 'T7_LEVEL', 'PU6_STATUS']\n",
    "plot_attacks([attack_14_no_concealment, attack_35], first_tanks, \n",
    "           ['Physical effect 43', '34 ground truth'],  first_tanks, sub_filename = 'batadal_20', \n",
    "           y_label='level (m)', xlim = [0,2880], markers=run_markers,attack_begin_line=1368, attack_end_line=1750)"
   ]
  },
  {
   "cell_type": "code",
   "execution_count": null,
   "id": "328afe95",
   "metadata": {},
   "outputs": [],
   "source": [
    "first_tanks = ['T1_LEVEL', 'T2_LEVEL', 'T3_LEVEL', 'T4_LEVEL', 'T5_LEVEL', 'T6_LEVEL', 'T7_LEVEL']\n",
    "plot_attacks([attack_14_2_no_concealment, attack_36], first_tanks, \n",
    "           ['Physical effect 46', '36 ground truth'],  first_tanks, sub_filename = 'batadal_20', \n",
    "           y_label='level (m)', xlim = [0,2880], markers=run_markers,attack_begin_line=1368, attack_end_line=1750)"
   ]
  },
  {
   "cell_type": "code",
   "execution_count": null,
   "id": "5676eeb2",
   "metadata": {},
   "outputs": [],
   "source": [
    "first_tanks = ['T1_LEVEL', 'T2_LEVEL', 'T3_LEVEL', 'T4_LEVEL', 'T5_LEVEL', 'T6_LEVEL', 'T7_LEVEL']\n",
    "plot_attacks([normal_conditions, attack_34, attack_35], first_tanks, \n",
    "           ['Normal Operating Conditions', \n",
    "            'Anomaly 34',\n",
    "            'Anomaly 35'],  first_tanks, sub_filename = 'batadal_20', \n",
    "           y_label='level (m)', xlim = [0,2880], markers=run_markers,attack_begin_line=1368, attack_end_line=1750)"
   ]
  },
  {
   "cell_type": "code",
   "execution_count": null,
   "id": "d573f40b",
   "metadata": {},
   "outputs": [],
   "source": [
    "first_tanks = ['T1_LEVEL', 'T2_LEVEL', 'T3_LEVEL', 'T4_LEVEL', 'T5_LEVEL', 'T6_LEVEL', 'T7_LEVEL']\n",
    "plot_attacks([normal_conditions, attack_36, attack_37], first_tanks, \n",
    "           ['Normal Operating Conditions', \n",
    "            'Anomaly 36',\n",
    "            'Anomaly 37'],  first_tanks, sub_filename = 'batadal_20', \n",
    "           y_label='level (m)', xlim = [0,2880], markers=run_markers,attack_begin_line=1368, attack_end_line=1750)"
   ]
  },
  {
   "cell_type": "markdown",
   "id": "7b10fbb9",
   "metadata": {},
   "source": [
    "# Anomalies 34-37 SCADA Values"
   ]
  },
  {
   "cell_type": "code",
   "execution_count": null,
   "id": "2c5e881a",
   "metadata": {},
   "outputs": [],
   "source": [
    "first_tanks = ['T4', 'PU6', 'PU7']\n",
    "plot_attacks([attack_14_no_concealment_scada, attack_34_scada, attack_35_scada], first_tanks, \n",
    "           ['Actual Values', \n",
    "            'Concealment Attack 34',\n",
    "            'Concealment Attack 35'],  first_tanks, sub_filename = 'plots/14vs34vs35scada', \n",
    "           y_label=['level (m)', 'status', 'status'], xlim = [0,2880], markers=run_markers,attack_begin_line=1368, attack_end_line=1750,\n",
    "            dim1=27/2.5,dim2=23/2.5)"
   ]
  },
  {
   "cell_type": "code",
   "execution_count": null,
   "id": "f204e1e2",
   "metadata": {},
   "outputs": [],
   "source": [
    "first_tanks = ['T4', 'PU6', 'PU7']\n",
    "plot_attacks([attack_14_2_no_concealment_scada, attack_36_scada, attack_37_scada], first_tanks, \n",
    "           ['Actual Values', \n",
    "            'Concealment Attack 36',\n",
    "            'Concealment Attack 37'],  first_tanks, sub_filename = 'plots/14_2vs36vs37scada', \n",
    "           y_label=['level (m)', 'status', 'status'], xlim = [0,2880], markers=run_markers,attack_begin_line=1368, attack_end_line=1750,\n",
    "            dim1=27/2.5,dim2=23/2.5)"
   ]
  },
  {
   "cell_type": "code",
   "execution_count": null,
   "id": "500c30e4",
   "metadata": {},
   "outputs": [],
   "source": [
    "attack_38_scada = pd.read_csv('../batadal_2_0_attacks/evasion_data/attack_output_38/scada_values.csv')\n",
    "attack_44_scada = pd.read_csv('../batadal_2_0_attacks/evasion_data/attack_output_44/scada_values.csv')\n",
    "attack_38_offline  = pd.read_csv('../testing_concealment_module_offline/results/DHALSIM/unconstrained_attack/new_advAE_attack_38_from_test_dataset.csv')\n",
    "\n",
    "first_tanks = ['T1', 'T2', 'T3', 'T4', 'T5', 'T6', 'T7']\n",
    "plot_attacks([attack_38_scada, attack_44_scada,  attack_38_offline], first_tanks, \n",
    "           ['Normal Operating Conditions', \n",
    "            'Anomaly 5 - scada',\n",
    "            'Anomaly 38 - offline'],  first_tanks, sub_filename = 'batadal_20', \n",
    "           y_label='level (m)', xlim = [0,2880], markers=run_markers)"
   ]
  },
  {
   "cell_type": "code",
   "execution_count": null,
   "id": "18ce96ec",
   "metadata": {},
   "outputs": [],
   "source": [
    "attack_45_scada = pd.read_csv('../batadal_2_0_attacks/evasion_data/attack_output_45/scada_values.csv')\n",
    "attack_38_offline  = pd.read_csv('../testing_concealment_module_offline/results/DHALSIM/unconstrained_attack/new_advAE_attack_38_from_test_dataset.csv')\n",
    "\n",
    "first_tanks = ['T1', 'T2', 'T3', 'T4', 'T5', 'T6', 'T7']\n",
    "plot_attacks([attack_45_scada, attack_05_scada,  attack_38_offline], first_tanks, \n",
    "           ['Normal Operating Conditions', \n",
    "            'Anomaly 5 - scada',\n",
    "            'Anomaly 38 - offline'],  first_tanks, sub_filename = 'batadal_20', \n",
    "           y_label='level (m)', xlim = [0,2880], markers=run_markers)"
   ]
  },
  {
   "cell_type": "code",
   "execution_count": null,
   "id": "836b5f6a",
   "metadata": {},
   "outputs": [],
   "source": [
    "attack_39_scada = pd.read_csv('../batadal_2_0_attacks/evasion_data/attack_output_39/scada_values.csv')\n",
    "attack_39_offline  = pd.read_csv('../testing_concealment_module_offline/results/DHALSIM/unconstrained_attack/new_advAE_attack_39_from_test_dataset.csv')\n",
    "\n",
    "first_tanks = ['T1', 'T2', 'T3', 'T4', 'T5', 'T6', 'T7']\n",
    "plot_attacks([attack_39_scada, attack_13_scada,  attack_39_offline], first_tanks, \n",
    "           ['Normal Operating Conditions', \n",
    "            'Anomaly 13 - scada',\n",
    "            'Anomaly 39 - offline'],  first_tanks, sub_filename = 'batadal_20', \n",
    "           y_label='level (m)', xlim = [0,2880], markers=run_markers, attack_begin_line=1100, attack_end_line=1480)"
   ]
  },
  {
   "cell_type": "code",
   "execution_count": null,
   "id": "139abf00",
   "metadata": {},
   "outputs": [],
   "source": [
    "attack_42_scada = pd.read_csv('../batadal_2_0_attacks/evasion_data/attack_output_42/scada_values.csv')\n",
    "attack_42_offline  = pd.read_csv('../testing_concealment_module_offline/results/DHALSIM/unconstrained_attack/new_advAE_attack_42_from_test_dataset.csv')\n",
    "\n",
    "first_tanks = ['T1', 'T2', 'T3', 'T4', 'T5', 'T6', 'T7']\n",
    "plot_attacks([attack_42_scada, attack_29_scada,  attack_42_offline], first_tanks, \n",
    "           ['Normal Operating Conditions', \n",
    "            'Anomaly 29 - scada',\n",
    "            'Anomaly 42 - offline'],  first_tanks, sub_filename = 'batadal_20', \n",
    "           y_label='level (m)', xlim = [0,2880], markers=run_markers,attack_begin_line=1600, attack_end_line=2728)"
   ]
  }
 ],
 "metadata": {
  "kernelspec": {
   "display_name": "Python 3 (ipykernel)",
   "language": "python",
   "name": "python3"
  },
  "language_info": {
   "codemirror_mode": {
    "name": "ipython",
    "version": 3
   },
   "file_extension": ".py",
   "mimetype": "text/x-python",
   "name": "python",
   "nbconvert_exporter": "python",
   "pygments_lexer": "ipython3",
   "version": "3.12.2"
  }
 },
 "nbformat": 4,
 "nbformat_minor": 5
}
